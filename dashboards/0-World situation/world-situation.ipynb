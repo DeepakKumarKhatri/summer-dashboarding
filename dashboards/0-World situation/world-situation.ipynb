{
 "cells": [
  {
   "cell_type": "markdown",
   "id": "latin-packing",
   "metadata": {
    "execution": {
     "iopub.execute_input": "2021-02-23T14:22:16.610471Z",
     "iopub.status.busy": "2021-02-23T14:22:16.610129Z",
     "iopub.status.idle": "2021-02-23T14:22:16.627784Z",
     "shell.execute_reply": "2021-02-23T14:22:16.626866Z",
     "shell.execute_reply.started": "2021-02-23T14:22:16.610384Z"
    },
    "papermill": {},
    "tags": []
   },
   "source": [
    "<img width=\"10%\" alt=\"Naas\" src=\"https://landen.imgix.net/jtci2pxwjczr/assets/5ice39g4.png?w=160\"/>"
   ]
  },
  {
   "cell_type": "markdown",
   "id": "compressed-wilson",
   "metadata": {
    "papermill": {},
    "tags": []
   },
   "source": [
    "# World Situation Dashboard "
   ]
  },
  {
   "cell_type": "markdown",
   "id": "religious-programmer",
   "metadata": {
    "papermill": {},
    "tags": []
   },
   "source": [
    "**Tags:** #dashboard #plotly #dash #naas #asset #automation #ai #analytics"
   ]
  },
  {
   "cell_type": "markdown",
   "id": "1fe9f56e-561c-4f52-aef8-b861c9462107",
   "metadata": {
    "papermill": {},
    "tags": []
   },
   "source": [
    "**Author:** [Jeremy Ravenel](https://www.linkedin.com/in/jeremyravenel/)"
   ]
  },
  {
   "cell_type": "markdown",
   "id": "31ea7cdb-e10d-43fc-b026-f69249a59736",
   "metadata": {
    "papermill": {},
    "tags": []
   },
   "source": [
    "This notebook enables you to generate a dashboard to follow the world situation."
   ]
  },
  {
   "cell_type": "markdown",
   "id": "distinguished-truth",
   "metadata": {
    "papermill": {},
    "tags": []
   },
   "source": [
    "## Input"
   ]
  },
  {
   "cell_type": "markdown",
   "id": "numeric-mediterranean",
   "metadata": {
    "papermill": {},
    "tags": []
   },
   "source": [
    "### Import libraries"
   ]
  },
  {
   "cell_type": "code",
   "execution_count": null,
   "id": "potential-surfing",
   "metadata": {
    "papermill": {},
    "tags": []
   },
   "outputs": [],
   "source": [
    "import os\n",
    "from naas_drivers import gsheet\n",
    "import naas\n",
    "import dash\n",
    "from dash import html, dcc, Input, Output, State\n",
    "import dash_bootstrap_components as dbc\n",
    "import plotly.graph_objects as go\n",
    "import plotly.express as px\n",
    "from dash_bootstrap_components._components.Container import Container\n",
    "import pandas as pd\n",
    "from plotly.subplots import make_subplots"
   ]
  },
  {
   "cell_type": "markdown",
   "id": "aggressive-trustee",
   "metadata": {
    "papermill": {},
    "tags": []
   },
   "source": [
    "### Defining the port of the dashboard"
   ]
  },
  {
   "cell_type": "code",
   "execution_count": null,
   "id": "continuous-melbourne",
   "metadata": {
    "papermill": {},
    "tags": []
   },
   "outputs": [],
   "source": [
    "DASH_PORT = 8050"
   ]
  },
  {
   "cell_type": "markdown",
   "id": "616706cc-2d4e-4e32-b7f2-ac3e991313d6",
   "metadata": {},
   "source": [
    "### Setup APP"
   ]
  },
  {
   "cell_type": "code",
   "execution_count": null,
   "id": "f4c043e1-cd66-410f-9037-ba8cb11e111b",
   "metadata": {
    "tags": []
   },
   "outputs": [],
   "source": [
    "APP_TITLE = 'World Situation Room'\n",
    "APP_LOGO = \"https://pbs.twimg.com/profile_images/1243203211114274817/WqWaa9Bm_400x400.jpg\""
   ]
  },
  {
   "cell_type": "markdown",
   "id": "d32dd999-e7f9-4332-b145-933fbc678caf",
   "metadata": {},
   "source": [
    "### Setup Google Sheets\n",
    "- Share your Google Sheets spreadsheet with our service account : 🔗 naas-share@naas-gsheets.iam.gserviceaccount.com"
   ]
  },
  {
   "cell_type": "code",
   "execution_count": null,
   "id": "d86a116f-97b6-4fc8-9a26-10415562a635",
   "metadata": {
    "tags": []
   },
   "outputs": [],
   "source": [
    "SPREADSHEET_URL = \"https://docs.google.com/spreadsheets/d/1yi0qzuUEnE9wMWWQFIVq5Uou8ChxFqF0MMqFM5FtVIM\"\n",
    "SHEET_NAME = \"KPIS\""
   ]
  },
  {
   "cell_type": "markdown",
   "id": "registered-showcase",
   "metadata": {
    "papermill": {},
    "tags": []
   },
   "source": [
    "## Model"
   ]
  },
  {
   "cell_type": "markdown",
   "id": "f6558026-6566-4b4d-ab74-a5eec170f57b",
   "metadata": {},
   "source": [
    "### Data"
   ]
  },
  {
   "cell_type": "markdown",
   "id": "aac432b4-bbe6-402b-85d0-3461b3ec0ee3",
   "metadata": {},
   "source": [
    "#### Highlighted KPIs"
   ]
  },
  {
   "cell_type": "code",
   "execution_count": null,
   "id": "2537c49b-e1f7-4115-97ba-3ef1cba717c0",
   "metadata": {
    "tags": []
   },
   "outputs": [],
   "source": [
    "# Dataframe is returned\n",
    "df_hkpis = gsheet.connect(SPREADSHEET_URL).get(sheet_name=SHEET_NAME)\n",
    "df_hkpis"
   ]
  },
  {
   "cell_type": "markdown",
   "id": "9baacf1d-7dbd-4398-8f63-9de552af0043",
   "metadata": {
    "papermill": {},
    "tags": []
   },
   "source": [
    "#### Earth Overshoot Day"
   ]
  },
  {
   "cell_type": "code",
   "execution_count": null,
   "id": "c7bb0592-3522-49e7-be1f-e4706dd18b8a",
   "metadata": {
    "papermill": {},
    "tags": []
   },
   "outputs": [],
   "source": [
    "def overshootday():\n",
    "    return fig  "
   ]
  },
  {
   "cell_type": "markdown",
   "id": "dbab68a6-4016-4ded-b06b-98a7db5be0cf",
   "metadata": {
    "papermill": {},
    "tags": []
   },
   "source": [
    "#### Land and Ocean Temperature"
   ]
  },
  {
   "cell_type": "code",
   "execution_count": null,
   "id": "8618936c-99f6-4512-a406-22ebba6313c3",
   "metadata": {
    "papermill": {},
    "tags": []
   },
   "outputs": [],
   "source": [
    "def landoceantemp():\n",
    "    return fig"
   ]
  },
  {
   "cell_type": "markdown",
   "id": "2cd237ee-e609-4858-ade6-be26c5f6718e",
   "metadata": {
    "papermill": {},
    "tags": []
   },
   "source": [
    "#### Energy consumption by source"
   ]
  },
  {
   "cell_type": "code",
   "execution_count": null,
   "id": "122d8c69-d7a3-424b-9891-1f7daf076686",
   "metadata": {
    "papermill": {},
    "tags": []
   },
   "outputs": [],
   "source": [
    "def energyconsumption():\n",
    "    return fig"
   ]
  },
  {
   "cell_type": "markdown",
   "id": "014478b7-31c9-42d0-a31a-d82399ff138b",
   "metadata": {
    "papermill": {},
    "tags": []
   },
   "source": [
    "#### Threaten species"
   ]
  },
  {
   "cell_type": "code",
   "execution_count": null,
   "id": "644b8945-a727-4fb9-8aaf-aed4cbe6991d",
   "metadata": {
    "papermill": {},
    "tags": []
   },
   "outputs": [],
   "source": [
    "def threatenspecies():\n",
    "    return fig"
   ]
  },
  {
   "cell_type": "markdown",
   "id": "694d36c0-625e-4440-b9a2-7db31cc3225b",
   "metadata": {
    "papermill": {},
    "tags": []
   },
   "source": [
    "#### Per Capita emissions"
   ]
  },
  {
   "cell_type": "code",
   "execution_count": null,
   "id": "cbab4704-3d9d-4ab0-8d02-8af65596ffc4",
   "metadata": {
    "papermill": {},
    "tags": []
   },
   "outputs": [],
   "source": [
    "def percapitaemissions():\n",
    "    return fig"
   ]
  },
  {
   "cell_type": "markdown",
   "id": "1b3ee868-5b56-42d5-8d27-5a8eb0ea794f",
   "metadata": {
    "papermill": {},
    "tags": []
   },
   "source": [
    "#### Estimated annual world water use"
   ]
  },
  {
   "cell_type": "code",
   "execution_count": null,
   "id": "36bbcb02-f28f-477e-9f2a-491fc039cb7e",
   "metadata": {
    "papermill": {},
    "tags": []
   },
   "outputs": [],
   "source": [
    "def annualwateruse():\n",
    "    return fig"
   ]
  },
  {
   "cell_type": "markdown",
   "id": "07490f8f-58dc-49e2-a532-dba238982af3",
   "metadata": {},
   "source": [
    "#### Barline "
   ]
  },
  {
   "cell_type": "code",
   "execution_count": null,
   "id": "709fa16a-9431-4ff8-a5a4-7fb2e38d519b",
   "metadata": {
    "tags": []
   },
   "outputs": [],
   "source": [
    "data = [\n",
    "    {\"DATE\": \"202201\", \"VALUE\": 130, \"VARV\": 130},\n",
    "    {\"DATE\": \"202202\", \"VALUE\": 180, \"VARV\": 50},\n",
    "    {\"DATE\": \"202203\", \"VALUE\": 190, \"VARV\": 10},\n",
    "    {\"DATE\": \"202204\", \"VALUE\": 200, \"VARV\": 10},\n",
    "    {\"DATE\": \"202205\", \"VALUE\": 280, \"VARV\": 80},\n",
    "]\n",
    "df = pd.DataFrame(data)\n",
    "df\n",
    "\n",
    "def create_barlinechart(df,\n",
    "                        label=\"DATE\",\n",
    "                        value=\"VALUE\",\n",
    "                        varv=\"VARV\",\n",
    "                        xaxis_title=\"Months\",\n",
    "                        yaxis_title_r=None,\n",
    "                        yaxis_title_l=None):    \n",
    "    # Create figure with secondary y-axis\n",
    "    fig = make_subplots(specs=[[{\"secondary_y\": True}]])\n",
    "\n",
    "    # Add traces\n",
    "    fig.add_trace(\n",
    "        go.Bar(\n",
    "            x=df[label],\n",
    "            y=df[varv],\n",
    "            marker=dict(color=\"#ADD8E6\"),\n",
    "        ),\n",
    "        secondary_y=False,\n",
    "    )\n",
    "    fig.add_trace(\n",
    "        go.Scatter(\n",
    "            x=df[label],\n",
    "            y=df[value],\n",
    "            mode=\"lines\",\n",
    "            line=dict(color=\"#0A66C2\", width=2.5),\n",
    "        ),\n",
    "        secondary_y=True,\n",
    "    )\n",
    "\n",
    "    # Add figure title\n",
    "    fig.update_layout(\n",
    "        title=\"Plotly - Barline chart\",\n",
    "        title_font=dict(family=\"Arial\", size=18, color=\"black\"),\n",
    "        legend=None,\n",
    "        plot_bgcolor=\"#ffffff\",\n",
    "        #width=1200,\n",
    "        #height=800,\n",
    "        paper_bgcolor=\"white\",\n",
    "        xaxis_title=xaxis_title,\n",
    "        xaxis_title_font=dict(family=\"Arial\", size=10, color=\"black\"),\n",
    "    )\n",
    "\n",
    "    # Set y-axes titles\n",
    "    fig.update_yaxes(\n",
    "        title_text=yaxis_title_r,\n",
    "        title_font=dict(family=\"Arial\", size=10, color=\"black\"),\n",
    "        secondary_y=False\n",
    "    )\n",
    "    fig.update_yaxes(\n",
    "        title_text=yaxis_title_l,\n",
    "        title_font=dict(family=\"Arial\", size=10, color=\"black\"),\n",
    "        secondary_y=True\n",
    "    )\n",
    "    fig.update_traces(showlegend=False)\n",
    "    fig.show()\n",
    "    return fig\n",
    "\n",
    "fig = create_barlinechart(df,\n",
    "                          yaxis_title_r=\"Variation\",\n",
    "                          yaxis_title_l=\"Value\")"
   ]
  },
  {
   "cell_type": "markdown",
   "id": "68991f96-e25f-4aa8-8c3c-987f2b555ab3",
   "metadata": {
    "papermill": {},
    "tags": []
   },
   "source": [
    "#### Create Heatmap"
   ]
  },
  {
   "cell_type": "code",
   "execution_count": null,
   "id": "a259a043-42c5-4614-9785-0db262b285c0",
   "metadata": {
    "papermill": {},
    "tags": []
   },
   "outputs": [],
   "source": [
    "data = [[54.25, 65, 52, 51, 49],\n",
    "        [20, 16, 60, 80, 30],\n",
    "        [30, 60, 51, 59, 20],\n",
    "        [40, 30, 12, 25, 20]]\n",
    "df = pd.DataFrame(data)\n",
    "df\n",
    "\n",
    "title = \"Heatmap\"\n",
    "config = {'displayModeBar': False}\n",
    "\n",
    "def update_layout(fig, title=None, plot_bgcolor=None, showlegend=None, margin=None):\n",
    "    fig.update_layout(\n",
    "        title=title,\n",
    "        plot_bgcolor=plot_bgcolor,\n",
    "        #width=1200,\n",
    "        margin=margin,\n",
    "       #height=800,\n",
    "        showlegend=showlegend)\n",
    "    return fig\n",
    "\n",
    "def heatmap(df,\n",
    "            x,\n",
    "            y,\n",
    "            x_label,\n",
    "            y_label,\n",
    "            color,\n",
    "            colorscale=[[0, \"#d94228\"],[0.5, \"#d94228\"],[0.5, \"#5ee290\"],[1.0, \"#5ee290\"]],\n",
    "            title=None,\n",
    "            margin=None):\n",
    "    fig = go.Figure()\n",
    "    fig = px.imshow(df,\n",
    "                    labels=dict(x=x_label, y=y_label, color=color),\n",
    "                    x=x,\n",
    "                    y=y)\n",
    "    fig.update_xaxes(side=\"top\")\n",
    "    fig.update_traces(xgap=5, selector=dict(type='heatmap'))\n",
    "    fig.update_traces(ygap=5, selector=dict(type='heatmap'))\n",
    "    fig.update_traces(dict(showscale=False, \n",
    "                           coloraxis=None, \n",
    "                           colorscale=colorscale),\n",
    "                           selector={'type':'heatmap'})\n",
    "    fig = update_layout(fig, title=title, margin=margin)\n",
    "    fig.show(config=config)\n",
    "    return fig\n",
    "\n",
    "heatmap = heatmap(df,\n",
    "              x=['Global', 'Americas', 'EMEA', 'Asia', 'Oceania'],\n",
    "              y=['Product 1', 'Product 2', 'Product 3', 'Product 4'],\n",
    "              x_label=\"Business lines\",\n",
    "              y_label=\"Products\",\n",
    "              color=\"Sales\",\n",
    "              title=title,\n",
    "              margin=dict(l=0, r=0, t=150, b=50))   "
   ]
  },
  {
   "cell_type": "markdown",
   "id": "3ee93f31-81d4-4ad3-8b58-f5b038802ed4",
   "metadata": {
    "execution": {
     "iopub.execute_input": "2022-08-07T12:36:43.651149Z",
     "iopub.status.busy": "2022-08-07T12:36:43.650909Z",
     "iopub.status.idle": "2022-08-07T12:36:43.655756Z",
     "shell.execute_reply": "2022-08-07T12:36:43.655122Z",
     "shell.execute_reply.started": "2022-08-07T12:36:43.651126Z"
    }
   },
   "source": [
    "### Design"
   ]
  },
  {
   "cell_type": "markdown",
   "id": "3cb8edf6-bf0e-46ad-bbea-f0206b531987",
   "metadata": {
    "papermill": {},
    "tags": []
   },
   "source": [
    "#### Initialize Dash app"
   ]
  },
  {
   "cell_type": "code",
   "execution_count": null,
   "id": "crude-louisville",
   "metadata": {
    "papermill": {},
    "tags": []
   },
   "outputs": [],
   "source": [
    "app = dash.Dash(\n",
    "    requests_pathname_prefix=f'/user/{os.environ.get(\"JUPYTERHUB_USER\")}/proxy/{DASH_PORT}/', \n",
    "    external_stylesheets=[dbc.themes.BOOTSTRAP],\n",
    "    meta_tags=[{'name': 'viewport','content': 'width=device-width, initial-scale=1.0'}]\n",
    "                \n",
    ")   \n",
    "#app = dash.Dash() if you are not in Naas"
   ]
  },
  {
   "cell_type": "markdown",
   "id": "145b9578-9eb6-4754-b067-5af5f3a0021e",
   "metadata": {},
   "source": [
    "#### Create dropdown"
   ]
  },
  {
   "cell_type": "markdown",
   "id": "226a1807-ec30-4d26-ae83-eceb46fb40c9",
   "metadata": {},
   "source": [
    "##### List dropdown options"
   ]
  },
  {
   "cell_type": "code",
   "execution_count": null,
   "id": "604e3369-e87b-45be-bec8-0a891510f333",
   "metadata": {
    "tags": []
   },
   "outputs": [],
   "source": [
    "available_indicators1 = [\n",
    "    \"Entity1\",\n",
    "    \"Entity2\",\n",
    "    \"Entity3\",\n",
    "    \"Entity4\"\n",
    "]\n",
    "available_indicators2 = [\n",
    "    \"2022\",\n",
    "    \"2021\",\n",
    "    \"2020\",\n",
    "    \"2019\"\n",
    "]"
   ]
  },
  {
   "cell_type": "markdown",
   "id": "5ca44d4b-de5c-49bc-b0b2-7d3da3670e0c",
   "metadata": {},
   "source": [
    "##### Create dropdown object\n",
    "https://dash-bootstrap-components.opensource.faculty.ai/docs/components/navbar/#"
   ]
  },
  {
   "cell_type": "code",
   "execution_count": null,
   "id": "34063f1b-5a36-4440-94c5-9919596f0492",
   "metadata": {
    "tags": []
   },
   "outputs": [],
   "source": [
    "dropdown1 = dcc.Dropdown(\n",
    "    id='crossfilter-xaxis-column',\n",
    "    options=[{'label': i, 'value': i} for i in available_indicators1],\n",
    "    placeholder='Entity',\n",
    "    value=\"Entity\",  \n",
    ")\n",
    "\n",
    "dropdown2 = dcc.Dropdown(\n",
    "    id='crossfilter-yaxis-column',\n",
    "    options=[{'label': i, 'value': i} for i in available_indicators2],\n",
    "    placeholder='Scenario',\n",
    ")"
   ]
  },
  {
   "cell_type": "markdown",
   "id": "3b3c067d-ca98-4fe1-be01-58c220524d79",
   "metadata": {},
   "source": [
    "#### Create cards"
   ]
  },
  {
   "cell_type": "code",
   "execution_count": null,
   "id": "8abe0788-45c6-45db-a390-157d90b5fc79",
   "metadata": {
    "tags": []
   },
   "outputs": [],
   "source": [
    "#Style used for card\n",
    "CARD_COL_STYLE = {\n",
    "    \"className\": \"gx-5 g-2\",\n",
    "    \"xs\": 12,\n",
    "    \"sm\": 12,\n",
    "    \"md\": 12,\n",
    "    \"lg\": 2,\n",
    "    \"xl\": 2\n",
    "}\n",
    "\n",
    "#Function to create card\n",
    "def create_card_col(card_title, card_paragraph):\n",
    "    card = dbc.Col(\n",
    "        dbc.Card(\n",
    "            dbc.CardBody(\n",
    "                [\n",
    "                    html.H5(card_title, className=\"card-title\"),\n",
    "                    html.P(card_paragraph, className=\"card-text\")\n",
    "                ]\n",
    "            ),\n",
    "            color=\"light\",\n",
    "            inverse=False\n",
    "        ),\n",
    "        **CARD_COL_STYLE\n",
    "    )\n",
    "    return card"
   ]
  },
  {
   "cell_type": "code",
   "execution_count": null,
   "id": "d8d7988b-0d84-481e-9a8b-9ce487573eba",
   "metadata": {
    "tags": []
   },
   "outputs": [],
   "source": [
    "app.title = APP_TITLE\n",
    "app.layout = html.Div(\n",
    "    [\n",
    "        #Navbar\n",
    "        dbc.Navbar(\n",
    "            dbc.Container(\n",
    "                [\n",
    "                    html.A(\n",
    "                        # Use row and col to control vertical alignment of logo / brand\n",
    "                        dbc.Row(\n",
    "                            [\n",
    "                                dbc.Col(html.Img(src=APP_LOGO, height=\"30px\")),\n",
    "                                dbc.Col(dbc.NavbarBrand(APP_TITLE, className=\"ms-2\")),\n",
    "                            ],\n",
    "                            align=\"center\",\n",
    "                            className=\"g-0\",\n",
    "                        ),\n",
    "                        href=\"https://mobile.twitter.com/ws_room/photo\",\n",
    "                        style={\"textDecoration\": \"none\"},\n",
    "                    ),\n",
    "                    dbc.NavbarToggler(\n",
    "                        id=\"navbar-toggler\",\n",
    "                        n_clicks=0\n",
    "                    ),\n",
    "                    dbc.Collapse(\n",
    "                        dbc.Nav(\n",
    "                            [\n",
    "                                html.Div(\n",
    "                                    [\n",
    "                                        dropdown1,\n",
    "                                        dropdown2\n",
    "                                    ],\n",
    "                                    className=\"d-grid gap-3 d-md-flex justify-content-md-end\")\n",
    "                                    \n",
    "                            ],\n",
    "                            className=\"ms-auto\",\n",
    "                            navbar=True,\n",
    "                        ),\n",
    "                        id=\"navbar-collapse2\",\n",
    "                        is_open=True,\n",
    "                        navbar=True,\n",
    "                    ),\n",
    "                ]\n",
    "            ),\n",
    "            color=\"dark\",\n",
    "            dark=True,\n",
    "        ),\n",
    "        \n",
    "        #HKPIS\n",
    "        html.Div(\n",
    "            [\n",
    "                dbc.Row(\n",
    "                    [\n",
    "                        create_card_col(\"🧬 Carbon Dioxyde\", \"419 ppm\"),\n",
    "                        create_card_col(\"🌡 Temperature\", \"+0.85°C\"),\n",
    "                        create_card_col(\"❄️ Artic Sea Ice\", \"-13% per decade\"),\n",
    "                        create_card_col(\"🧊 Ice Sheet\", \"-152 bilions metric\"),\n",
    "                        create_card_col(\"🌊 Sea Level\", \"+1O1 mm\"),\n",
    "                        create_card_col(\"🔥 Ocean Heat\", \"+337 zettajoules\"),\n",
    "                    ],\n",
    "                    className=\"g-0 d-flex align-items-center\",\n",
    "                    style={}\n",
    "                )\n",
    "            ]\n",
    "        ),\n",
    "\n",
    "        #Charts    \n",
    "        html.Div(\n",
    "            [\n",
    "                dbc.Row(\n",
    "                    [\n",
    "                        dbc.Col(\n",
    "                            [\n",
    "                                dcc.Graph(id=\"test2\",figure=fig)\n",
    "                            ],\n",
    "                            xs=12,\n",
    "                            sm=12,\n",
    "                            md=12,\n",
    "                            lg=6,\n",
    "                            xl=6\n",
    "                        ),\n",
    "                        dbc.Col(\n",
    "                            [\n",
    "                                dcc.Graph(id=\"test3\",figure=heatmap)\n",
    "                            ],\n",
    "                            xs=12,\n",
    "                            sm=12,\n",
    "                            md=12,\n",
    "                            lg=6,\n",
    "                            xl=6\n",
    "                        )\n",
    "                    ]\n",
    "                ),\n",
    "                dbc.Row(\n",
    "                    [\n",
    "                        dbc.Col(\n",
    "                            [\n",
    "                                dcc.Graph(id=\"test4\",figure=fig)\n",
    "                            ],\n",
    "                            xs=12,\n",
    "                            sm=12,\n",
    "                            md=12,\n",
    "                            lg=6,\n",
    "                            xl=6\n",
    "                        ),\n",
    "                        dbc.Col(\n",
    "                            [\n",
    "                                dcc.Graph(id=\"test5\",figure=fig)\n",
    "                            ],\n",
    "                            xs=12,\n",
    "                            sm=12,\n",
    "                            md=12,\n",
    "                            lg=6,\n",
    "                            xl=6\n",
    "                        )\n",
    "                    ]\n",
    "                )\n",
    "            ]\n",
    "            ,style={}\n",
    "        ),\n",
    "    ],\n",
    "\n",
    ")\n",
    "\n",
    "# add callback for toggling the collapse on small screens\n",
    "@app.callback(\n",
    "    Output(\"navbar-collapse\", \"is_open\"),\n",
    "    [Input(\"navbar-toggler\", \"n_clicks\")],\n",
    "    [State(\"navbar-collapse\", \"is_open\")],\n",
    ")\n",
    "def toggle_navbar_collapse(n, is_open):\n",
    "    if n:\n",
    "        return not is_open\n",
    "    return is_open"
   ]
  },
  {
   "cell_type": "markdown",
   "id": "lonely-pacific",
   "metadata": {
    "execution": {
     "iopub.execute_input": "2021-07-02T23:32:10.789097Z",
     "iopub.status.busy": "2021-07-02T23:32:10.788829Z",
     "iopub.status.idle": "2021-07-02T23:32:10.796900Z",
     "shell.execute_reply": "2021-07-02T23:32:10.796358Z",
     "shell.execute_reply.started": "2021-07-02T23:32:10.789033Z"
    },
    "papermill": {},
    "tags": []
   },
   "source": [
    "## Output"
   ]
  },
  {
   "cell_type": "markdown",
   "id": "890f7c86-b7bb-4f5d-9a1b-e492dd9580fd",
   "metadata": {
    "papermill": {},
    "tags": []
   },
   "source": [
    "### Generate URL and show logs"
   ]
  },
  {
   "cell_type": "code",
   "execution_count": null,
   "id": "9c4e3b7b-6440-4844-8054-265f1aec65eb",
   "metadata": {
    "papermill": {},
    "tags": []
   },
   "outputs": [],
   "source": [
    "if __name__ == '__main__':\n",
    "    app.run_server(proxy=f\"http://127.0.0.1:{DASH_PORT}::https://app.naas.ai\")"
   ]
  },
  {
   "cell_type": "code",
   "execution_count": null,
   "id": "beddd29d-1788-4198-b15e-eb2fd6d3bd9f",
   "metadata": {},
   "outputs": [],
   "source": []
  }
 ],
 "metadata": {
  "kernelspec": {
   "display_name": "Python 3",
   "language": "python",
   "name": "python3"
  },
  "language_info": {
   "codemirror_mode": {
    "name": "ipython",
    "version": 3
   },
   "file_extension": ".py",
   "mimetype": "text/x-python",
   "name": "python",
   "nbconvert_exporter": "python",
   "pygments_lexer": "ipython3",
   "version": "3.9.6"
  },
  "papermill": {
   "default_parameters": {},
   "environment_variables": {},
   "parameters": {},
   "version": "2.3.3"
  },
  "widgets": {
   "application/vnd.jupyter.widget-state+json": {
    "state": {},
    "version_major": 2,
    "version_minor": 0
   }
  }
 },
 "nbformat": 4,
 "nbformat_minor": 5
}
