{
 "cells": [
  {
   "cell_type": "markdown",
   "id": "latin-packing",
   "metadata": {
    "execution": {
     "iopub.execute_input": "2021-02-23T14:22:16.610471Z",
     "iopub.status.busy": "2021-02-23T14:22:16.610129Z",
     "iopub.status.idle": "2021-02-23T14:22:16.627784Z",
     "shell.execute_reply": "2021-02-23T14:22:16.626866Z",
     "shell.execute_reply.started": "2021-02-23T14:22:16.610384Z"
    },
    "papermill": {},
    "tags": []
   },
   "source": [
    "<img width=\"10%\" alt=\"Naas\" src=\"https://landen.imgix.net/jtci2pxwjczr/assets/5ice39g4.png?w=160\"/>"
   ]
  },
  {
   "cell_type": "markdown",
   "id": "compressed-wilson",
   "metadata": {
    "papermill": {},
    "tags": []
   },
   "source": [
    "# World Situation Dashboard "
   ]
  },
  {
   "cell_type": "markdown",
   "id": "religious-programmer",
   "metadata": {
    "papermill": {},
    "tags": []
   },
   "source": [
    "**Tags:** #dashboard #plotly #dash #naas #asset #automation #ai #analytics"
   ]
  },
  {
   "cell_type": "markdown",
   "id": "1fe9f56e-561c-4f52-aef8-b861c9462107",
   "metadata": {
    "papermill": {},
    "tags": []
   },
   "source": [
    "**Author:** [Jeremy Ravenel](https://www.linkedin.com/in/jeremyravenel/)"
   ]
  },
  {
   "cell_type": "markdown",
   "id": "31ea7cdb-e10d-43fc-b026-f69249a59736",
   "metadata": {
    "papermill": {},
    "tags": []
   },
   "source": [
    "This notebook enables you to generate a dashboard to follow the world situation."
   ]
  },
  {
   "cell_type": "markdown",
   "id": "distinguished-truth",
   "metadata": {
    "papermill": {},
    "tags": []
   },
   "source": [
    "## Input"
   ]
  },
  {
   "cell_type": "markdown",
   "id": "f5d505b9-238e-4704-ba8f-16dea3af15e5",
   "metadata": {
    "papermill": {},
    "tags": []
   },
   "source": [
    "### Install packages"
   ]
  },
  {
   "cell_type": "code",
   "execution_count": null,
   "id": "7b6cda7a-77c6-464c-bdef-cfcaebe83255",
   "metadata": {
    "papermill": {},
    "tags": []
   },
   "outputs": [],
   "source": [
    "#!pip install dash   \n",
    "#!pip install dash-html-components                                         \n",
    "#!pip install dash-core-components                                     \n",
    "#!pip install plotly"
   ]
  },
  {
   "cell_type": "markdown",
   "id": "numeric-mediterranean",
   "metadata": {
    "papermill": {},
    "tags": []
   },
   "source": [
    "### Import library"
   ]
  },
  {
   "cell_type": "code",
   "execution_count": 14,
   "id": "potential-surfing",
   "metadata": {
    "execution": {
     "iopub.execute_input": "2022-08-03T12:51:20.021604Z",
     "iopub.status.busy": "2022-08-03T12:51:20.021367Z",
     "iopub.status.idle": "2022-08-03T12:51:20.024796Z",
     "shell.execute_reply": "2022-08-03T12:51:20.024157Z",
     "shell.execute_reply.started": "2022-08-03T12:51:20.021580Z"
    },
    "papermill": {},
    "tags": []
   },
   "outputs": [],
   "source": [
    "import dash\n",
    "from dash import html\n",
    "from dash import dcc\n",
    "import plotly.graph_objects as go\n",
    "import plotly.express as px\n",
    "import os\n",
    "import naas_drivers"
   ]
  },
  {
   "cell_type": "markdown",
   "id": "aggressive-trustee",
   "metadata": {
    "papermill": {},
    "tags": []
   },
   "source": [
    "### Defining the port of the dashboard"
   ]
  },
  {
   "cell_type": "code",
   "execution_count": 15,
   "id": "continuous-melbourne",
   "metadata": {
    "execution": {
     "iopub.execute_input": "2022-08-03T12:51:22.922827Z",
     "iopub.status.busy": "2022-08-03T12:51:22.922530Z",
     "iopub.status.idle": "2022-08-03T12:51:22.926691Z",
     "shell.execute_reply": "2022-08-03T12:51:22.926086Z",
     "shell.execute_reply.started": "2022-08-03T12:51:22.922796Z"
    },
    "papermill": {},
    "tags": []
   },
   "outputs": [],
   "source": [
    "DASH_PORT = 8050"
   ]
  },
  {
   "cell_type": "markdown",
   "id": "d32dd999-e7f9-4332-b145-933fbc678caf",
   "metadata": {},
   "source": [
    "### Input data from Gsheets"
   ]
  },
  {
   "cell_type": "code",
   "execution_count": 16,
   "id": "d86a116f-97b6-4fc8-9a26-10415562a635",
   "metadata": {
    "execution": {
     "iopub.execute_input": "2022-08-03T12:51:23.569189Z",
     "iopub.status.busy": "2022-08-03T12:51:23.568955Z",
     "iopub.status.idle": "2022-08-03T12:51:23.572020Z",
     "shell.execute_reply": "2022-08-03T12:51:23.571382Z",
     "shell.execute_reply.started": "2022-08-03T12:51:23.569166Z"
    },
    "tags": []
   },
   "outputs": [],
   "source": [
    "spreadsheet_id = \"1yi0qzuUEnE9wMWWQFIVq5Uou8ChxFqF0MMqFM5FtVIM\""
   ]
  },
  {
   "cell_type": "markdown",
   "id": "registered-showcase",
   "metadata": {
    "papermill": {},
    "tags": []
   },
   "source": [
    "## Model"
   ]
  },
  {
   "cell_type": "markdown",
   "id": "3cb8edf6-bf0e-46ad-bbea-f0206b531987",
   "metadata": {
    "papermill": {},
    "tags": []
   },
   "source": [
    "### Initialize Dash app"
   ]
  },
  {
   "cell_type": "code",
   "execution_count": 17,
   "id": "crude-louisville",
   "metadata": {
    "execution": {
     "iopub.execute_input": "2022-08-03T12:51:50.762136Z",
     "iopub.status.busy": "2022-08-03T12:51:50.761901Z",
     "iopub.status.idle": "2022-08-03T12:51:50.772145Z",
     "shell.execute_reply": "2022-08-03T12:51:50.771623Z",
     "shell.execute_reply.started": "2022-08-03T12:51:50.762113Z"
    },
    "papermill": {},
    "tags": []
   },
   "outputs": [],
   "source": [
    "app = dash.Dash(requests_pathname_prefix=f'/user/{os.environ.get(\"JUPYTERHUB_USER\")}/proxy/{DASH_PORT}/')   \n",
    "#app = dash.Dash() if you are not in Naas"
   ]
  },
  {
   "cell_type": "markdown",
   "id": "aac432b4-bbe6-402b-85d0-3461b3ec0ee3",
   "metadata": {},
   "source": [
    "### Highlighted KPIs"
   ]
  },
  {
   "cell_type": "code",
   "execution_count": 6,
   "id": "2537c49b-e1f7-4115-97ba-3ef1cba717c0",
   "metadata": {
    "execution": {
     "iopub.execute_input": "2022-08-03T12:51:06.026379Z",
     "iopub.status.busy": "2022-08-03T12:51:06.026144Z",
     "iopub.status.idle": "2022-08-03T12:51:06.696221Z",
     "shell.execute_reply": "2022-08-03T12:51:06.695601Z",
     "shell.execute_reply.started": "2022-08-03T12:51:06.026350Z"
    }
   },
   "outputs": [],
   "source": [
    "# Dataframe is returned\n",
    "df_hkpis = naas_drivers.gsheet.connect(spreadsheet_id).get(\n",
    "    sheet_name=\"KPIS\"\n",
    ")"
   ]
  },
  {
   "cell_type": "markdown",
   "id": "9baacf1d-7dbd-4398-8f63-9de552af0043",
   "metadata": {
    "papermill": {},
    "tags": []
   },
   "source": [
    "### Earth Overshoot Day"
   ]
  },
  {
   "cell_type": "code",
   "execution_count": 7,
   "id": "c7bb0592-3522-49e7-be1f-e4706dd18b8a",
   "metadata": {
    "execution": {
     "iopub.execute_input": "2022-08-03T12:51:06.697318Z",
     "iopub.status.busy": "2022-08-03T12:51:06.697110Z",
     "iopub.status.idle": "2022-08-03T12:51:06.702977Z",
     "shell.execute_reply": "2022-08-03T12:51:06.702457Z",
     "shell.execute_reply.started": "2022-08-03T12:51:06.697276Z"
    },
    "papermill": {},
    "tags": []
   },
   "outputs": [],
   "source": [
    "def overshootday():\n",
    "\n",
    "    return fig  \n"
   ]
  },
  {
   "cell_type": "markdown",
   "id": "dbab68a6-4016-4ded-b06b-98a7db5be0cf",
   "metadata": {
    "papermill": {},
    "tags": []
   },
   "source": [
    "### Land and Ocean Temperature"
   ]
  },
  {
   "cell_type": "code",
   "execution_count": 8,
   "id": "8618936c-99f6-4512-a406-22ebba6313c3",
   "metadata": {
    "execution": {
     "iopub.execute_input": "2022-08-03T12:51:06.703814Z",
     "iopub.status.busy": "2022-08-03T12:51:06.703663Z",
     "iopub.status.idle": "2022-08-03T12:51:06.801114Z",
     "shell.execute_reply": "2022-08-03T12:51:06.800496Z",
     "shell.execute_reply.started": "2022-08-03T12:51:06.703796Z"
    },
    "papermill": {},
    "tags": []
   },
   "outputs": [],
   "source": [
    "def landoceantemp():\n",
    "\n",
    "    return fig  \n"
   ]
  },
  {
   "cell_type": "markdown",
   "id": "2cd237ee-e609-4858-ade6-be26c5f6718e",
   "metadata": {
    "papermill": {},
    "tags": []
   },
   "source": [
    "### Energy consumption by source"
   ]
  },
  {
   "cell_type": "code",
   "execution_count": 9,
   "id": "122d8c69-d7a3-424b-9891-1f7daf076686",
   "metadata": {
    "execution": {
     "iopub.execute_input": "2022-08-03T12:51:06.803326Z",
     "iopub.status.busy": "2022-08-03T12:51:06.803086Z",
     "iopub.status.idle": "2022-08-03T12:51:06.909919Z",
     "shell.execute_reply": "2022-08-03T12:51:06.909190Z",
     "shell.execute_reply.started": "2022-08-03T12:51:06.803297Z"
    },
    "papermill": {},
    "tags": []
   },
   "outputs": [],
   "source": [
    "def energyconsumption():\n",
    "\n",
    "    return fig  \n"
   ]
  },
  {
   "cell_type": "markdown",
   "id": "014478b7-31c9-42d0-a31a-d82399ff138b",
   "metadata": {
    "papermill": {},
    "tags": []
   },
   "source": [
    "### Threaten species"
   ]
  },
  {
   "cell_type": "code",
   "execution_count": 10,
   "id": "644b8945-a727-4fb9-8aaf-aed4cbe6991d",
   "metadata": {
    "execution": {
     "iopub.execute_input": "2022-08-03T12:51:06.911418Z",
     "iopub.status.busy": "2022-08-03T12:51:06.911169Z",
     "iopub.status.idle": "2022-08-03T12:51:07.014589Z",
     "shell.execute_reply": "2022-08-03T12:51:07.013944Z",
     "shell.execute_reply.started": "2022-08-03T12:51:06.911385Z"
    },
    "papermill": {},
    "tags": []
   },
   "outputs": [],
   "source": [
    "def threatenspecies():\n",
    "\n",
    "    return fig  \n"
   ]
  },
  {
   "cell_type": "markdown",
   "id": "694d36c0-625e-4440-b9a2-7db31cc3225b",
   "metadata": {
    "papermill": {},
    "tags": []
   },
   "source": [
    "### Per Capita emissions"
   ]
  },
  {
   "cell_type": "code",
   "execution_count": 11,
   "id": "cbab4704-3d9d-4ab0-8d02-8af65596ffc4",
   "metadata": {
    "execution": {
     "iopub.execute_input": "2022-08-03T12:51:07.015691Z",
     "iopub.status.busy": "2022-08-03T12:51:07.015507Z",
     "iopub.status.idle": "2022-08-03T12:51:07.125517Z",
     "shell.execute_reply": "2022-08-03T12:51:07.124814Z",
     "shell.execute_reply.started": "2022-08-03T12:51:07.015671Z"
    },
    "papermill": {},
    "tags": []
   },
   "outputs": [],
   "source": [
    "def percapitaemissions():\n",
    "\n",
    "    return fig  \n"
   ]
  },
  {
   "cell_type": "markdown",
   "id": "1b3ee868-5b56-42d5-8d27-5a8eb0ea794f",
   "metadata": {
    "papermill": {},
    "tags": []
   },
   "source": [
    "### Estimated annual world water use"
   ]
  },
  {
   "cell_type": "code",
   "execution_count": 12,
   "id": "36bbcb02-f28f-477e-9f2a-491fc039cb7e",
   "metadata": {
    "execution": {
     "iopub.execute_input": "2022-08-03T12:51:07.126557Z",
     "iopub.status.busy": "2022-08-03T12:51:07.126372Z",
     "iopub.status.idle": "2022-08-03T12:51:07.233797Z",
     "shell.execute_reply": "2022-08-03T12:51:07.233150Z",
     "shell.execute_reply.started": "2022-08-03T12:51:07.126538Z"
    },
    "papermill": {},
    "tags": []
   },
   "outputs": [],
   "source": [
    "def annualwateruse():\n",
    "\n",
    "    return fig  \n"
   ]
  },
  {
   "cell_type": "markdown",
   "id": "d7bcce05-c843-464f-9ffb-b2bdaad0cb61",
   "metadata": {
    "papermill": {},
    "tags": []
   },
   "source": [
    "### Create app layout"
   ]
  },
  {
   "cell_type": "code",
   "execution_count": 25,
   "id": "522d0fe1-d19a-4f97-bc63-085e31b7b2e5",
   "metadata": {
    "execution": {
     "iopub.execute_input": "2022-08-03T12:54:51.914370Z",
     "iopub.status.busy": "2022-08-03T12:54:51.914076Z",
     "iopub.status.idle": "2022-08-03T12:54:51.920258Z",
     "shell.execute_reply": "2022-08-03T12:54:51.917123Z",
     "shell.execute_reply.started": "2022-08-03T12:54:51.914340Z"
    },
    "papermill": {},
    "tags": []
   },
   "outputs": [],
   "source": [
    "app.layout = html.Div(id = 'parent', children = [\n",
    "    html.H1(id = 'H1', children = 'World Situation', style = {'textAlign':'left',\\\n",
    "                                            'marginTop':40, 'paddingLeft':30, 'marginBottom':40}),\n",
    "\n",
    "        \n",
    "        dcc.Graph()    \n",
    "    ])"
   ]
  },
  {
   "cell_type": "markdown",
   "id": "lonely-pacific",
   "metadata": {
    "execution": {
     "iopub.execute_input": "2021-07-02T23:32:10.789097Z",
     "iopub.status.busy": "2021-07-02T23:32:10.788829Z",
     "iopub.status.idle": "2021-07-02T23:32:10.796900Z",
     "shell.execute_reply": "2021-07-02T23:32:10.796358Z",
     "shell.execute_reply.started": "2021-07-02T23:32:10.789033Z"
    },
    "papermill": {},
    "tags": []
   },
   "source": [
    "## Output"
   ]
  },
  {
   "cell_type": "markdown",
   "id": "890f7c86-b7bb-4f5d-9a1b-e492dd9580fd",
   "metadata": {
    "papermill": {},
    "tags": []
   },
   "source": [
    "### Generate URL and show logs"
   ]
  },
  {
   "cell_type": "code",
   "execution_count": null,
   "id": "9c4e3b7b-6440-4844-8054-265f1aec65eb",
   "metadata": {
    "execution": {
     "iopub.execute_input": "2022-08-03T12:54:52.742077Z",
     "iopub.status.busy": "2022-08-03T12:54:52.741846Z"
    },
    "papermill": {},
    "tags": []
   },
   "outputs": [
    {
     "name": "stdout",
     "output_type": "stream",
     "text": [
      "Dash is running on https://app.naas.ai/user/jeremy@naas.ai/proxy/8050/\n",
      "\n",
      "Dash is running on https://app.naas.ai/user/jeremy@naas.ai/proxy/8050/\n",
      "\n",
      " * Serving Flask app '__main__' (lazy loading)\n",
      " * Environment: production\n",
      "\u001b[31m   WARNING: This is a development server. Do not use it in a production deployment.\u001b[0m\n",
      "\u001b[2m   Use a production WSGI server instead.\u001b[0m\n",
      " * Debug mode: off\n"
     ]
    },
    {
     "name": "stderr",
     "output_type": "stream",
     "text": [
      " * Running on http://127.0.0.1:8050 (Press CTRL+C to quit)\n",
      "127.0.0.1 - - [03/Aug/2022 14:54:54] \"GET / HTTP/1.1\" 200 -\n",
      "127.0.0.1 - - [03/Aug/2022 14:54:54] \"GET /_dash-layout HTTP/1.1\" 200 -\n",
      "127.0.0.1 - - [03/Aug/2022 14:54:54] \"GET /_dash-dependencies HTTP/1.1\" 200 -\n",
      "127.0.0.1 - - [03/Aug/2022 14:54:55] \"GET /_dash-component-suites/dash/dcc/async-graph.js HTTP/1.1\" 200 -\n",
      "127.0.0.1 - - [03/Aug/2022 14:54:55] \"GET /_dash-component-suites/dash/dcc/async-plotlyjs.js HTTP/1.1\" 200 -\n"
     ]
    }
   ],
   "source": [
    "if __name__ == '__main__':\n",
    "    app.run_server(proxy=f\"http://127.0.0.1:{DASH_PORT}::https://app.naas.ai\")"
   ]
  }
 ],
 "metadata": {
  "kernelspec": {
   "display_name": "Python 3",
   "language": "python",
   "name": "python3"
  },
  "language_info": {
   "codemirror_mode": {
    "name": "ipython",
    "version": 3
   },
   "file_extension": ".py",
   "mimetype": "text/x-python",
   "name": "python",
   "nbconvert_exporter": "python",
   "pygments_lexer": "ipython3",
   "version": "3.9.6"
  },
  "papermill": {
   "default_parameters": {},
   "environment_variables": {},
   "parameters": {},
   "version": "2.3.3"
  },
  "widgets": {
   "application/vnd.jupyter.widget-state+json": {
    "state": {},
    "version_major": 2,
    "version_minor": 0
   }
  }
 },
 "nbformat": 4,
 "nbformat_minor": 5
}
